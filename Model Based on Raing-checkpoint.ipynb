{
 "cells": [
  {
   "cell_type": "code",
   "execution_count": 1,
   "metadata": {},
   "outputs": [],
   "source": [
    "import numpy as np\n",
    "import pandas as pd"
   ]
  },
  {
   "cell_type": "code",
   "execution_count": 2,
   "metadata": {},
   "outputs": [],
   "source": [
    "df = pd.read_csv('Sentiments.csv')"
   ]
  },
  {
   "cell_type": "code",
   "execution_count": 3,
   "metadata": {},
   "outputs": [
    {
     "data": {
      "text/html": [
       "<div>\n",
       "<style scoped>\n",
       "    .dataframe tbody tr th:only-of-type {\n",
       "        vertical-align: middle;\n",
       "    }\n",
       "\n",
       "    .dataframe tbody tr th {\n",
       "        vertical-align: top;\n",
       "    }\n",
       "\n",
       "    .dataframe thead th {\n",
       "        text-align: right;\n",
       "    }\n",
       "</style>\n",
       "<table border=\"1\" class=\"dataframe\">\n",
       "  <thead>\n",
       "    <tr style=\"text-align: right;\">\n",
       "      <th></th>\n",
       "      <th>Unnamed: 0</th>\n",
       "      <th>Review</th>\n",
       "      <th>word_count</th>\n",
       "      <th>char_count</th>\n",
       "      <th>average_word_length</th>\n",
       "      <th>stop_word_count</th>\n",
       "      <th>stop_word_rate</th>\n",
       "      <th>lemmatized</th>\n",
       "      <th>polarity</th>\n",
       "      <th>subjectivity</th>\n",
       "    </tr>\n",
       "  </thead>\n",
       "  <tbody>\n",
       "    <tr>\n",
       "      <th>0</th>\n",
       "      <td>0</td>\n",
       "      <td>Trash. Yes, it has some nice nifty features bu...</td>\n",
       "      <td>91</td>\n",
       "      <td>497</td>\n",
       "      <td>4.472527</td>\n",
       "      <td>42</td>\n",
       "      <td>0.461538</td>\n",
       "      <td>trash yes nice nifty feature lack complete nec...</td>\n",
       "      <td>0.280000</td>\n",
       "      <td>0.595000</td>\n",
       "    </tr>\n",
       "    <tr>\n",
       "      <th>1</th>\n",
       "      <td>1</td>\n",
       "      <td>OMG the UI is awful, seriously you have popup ...</td>\n",
       "      <td>58</td>\n",
       "      <td>312</td>\n",
       "      <td>4.396552</td>\n",
       "      <td>27</td>\n",
       "      <td>0.465517</td>\n",
       "      <td>omg ui awful seriously popup premium every 2 s...</td>\n",
       "      <td>-0.166667</td>\n",
       "      <td>0.719444</td>\n",
       "    </tr>\n",
       "    <tr>\n",
       "      <th>2</th>\n",
       "      <td>2</td>\n",
       "      <td>I've been using the app for a while and since ...</td>\n",
       "      <td>37</td>\n",
       "      <td>197</td>\n",
       "      <td>4.351351</td>\n",
       "      <td>19</td>\n",
       "      <td>0.513514</td>\n",
       "      <td>ive using since last week acting weird dont re...</td>\n",
       "      <td>-0.082857</td>\n",
       "      <td>0.320476</td>\n",
       "    </tr>\n",
       "    <tr>\n",
       "      <th>3</th>\n",
       "      <td>3</td>\n",
       "      <td>Unable to register with an email. Clicking\"con...</td>\n",
       "      <td>61</td>\n",
       "      <td>347</td>\n",
       "      <td>4.704918</td>\n",
       "      <td>28</td>\n",
       "      <td>0.459016</td>\n",
       "      <td>unable register email clickingcontinue email t...</td>\n",
       "      <td>0.025000</td>\n",
       "      <td>0.370370</td>\n",
       "    </tr>\n",
       "    <tr>\n",
       "      <th>4</th>\n",
       "      <td>4</td>\n",
       "      <td>Having to pay to set a recurring task is ridic...</td>\n",
       "      <td>31</td>\n",
       "      <td>162</td>\n",
       "      <td>4.258065</td>\n",
       "      <td>16</td>\n",
       "      <td>0.516129</td>\n",
       "      <td>pay set recurring task ridiculous essentially ...</td>\n",
       "      <td>-0.108333</td>\n",
       "      <td>0.575000</td>\n",
       "    </tr>\n",
       "  </tbody>\n",
       "</table>\n",
       "</div>"
      ],
      "text/plain": [
       "   Unnamed: 0                                             Review  word_count  \\\n",
       "0           0  Trash. Yes, it has some nice nifty features bu...          91   \n",
       "1           1  OMG the UI is awful, seriously you have popup ...          58   \n",
       "2           2  I've been using the app for a while and since ...          37   \n",
       "3           3  Unable to register with an email. Clicking\"con...          61   \n",
       "4           4  Having to pay to set a recurring task is ridic...          31   \n",
       "\n",
       "   char_count  average_word_length  stop_word_count  stop_word_rate  \\\n",
       "0         497             4.472527               42        0.461538   \n",
       "1         312             4.396552               27        0.465517   \n",
       "2         197             4.351351               19        0.513514   \n",
       "3         347             4.704918               28        0.459016   \n",
       "4         162             4.258065               16        0.516129   \n",
       "\n",
       "                                          lemmatized  polarity  subjectivity  \n",
       "0  trash yes nice nifty feature lack complete nec...  0.280000      0.595000  \n",
       "1  omg ui awful seriously popup premium every 2 s... -0.166667      0.719444  \n",
       "2  ive using since last week acting weird dont re... -0.082857      0.320476  \n",
       "3  unable register email clickingcontinue email t...  0.025000      0.370370  \n",
       "4  pay set recurring task ridiculous essentially ... -0.108333      0.575000  "
      ]
     },
     "execution_count": 3,
     "metadata": {},
     "output_type": "execute_result"
    }
   ],
   "source": [
    "df.head()"
   ]
  },
  {
   "cell_type": "code",
   "execution_count": 4,
   "metadata": {},
   "outputs": [],
   "source": [
    "def rating(x):\n",
    "    if(x>=0.5):\n",
    "        return 5\n",
    "    elif(x>0.3):\n",
    "        return 4\n",
    "    elif(x>=0):\n",
    "        return 3\n",
    "    elif(x<0):\n",
    "        return 1"
   ]
  },
  {
   "cell_type": "code",
   "execution_count": 5,
   "metadata": {},
   "outputs": [],
   "source": [
    "df['Rating'] = df['polarity'].apply(lambda x:rating(x))"
   ]
  },
  {
   "cell_type": "code",
   "execution_count": 6,
   "metadata": {},
   "outputs": [
    {
     "data": {
      "text/html": [
       "<div>\n",
       "<style scoped>\n",
       "    .dataframe tbody tr th:only-of-type {\n",
       "        vertical-align: middle;\n",
       "    }\n",
       "\n",
       "    .dataframe tbody tr th {\n",
       "        vertical-align: top;\n",
       "    }\n",
       "\n",
       "    .dataframe thead th {\n",
       "        text-align: right;\n",
       "    }\n",
       "</style>\n",
       "<table border=\"1\" class=\"dataframe\">\n",
       "  <thead>\n",
       "    <tr style=\"text-align: right;\">\n",
       "      <th></th>\n",
       "      <th>Unnamed: 0</th>\n",
       "      <th>Review</th>\n",
       "      <th>word_count</th>\n",
       "      <th>char_count</th>\n",
       "      <th>average_word_length</th>\n",
       "      <th>stop_word_count</th>\n",
       "      <th>stop_word_rate</th>\n",
       "      <th>lemmatized</th>\n",
       "      <th>polarity</th>\n",
       "      <th>subjectivity</th>\n",
       "      <th>Rating</th>\n",
       "    </tr>\n",
       "  </thead>\n",
       "  <tbody>\n",
       "    <tr>\n",
       "      <th>0</th>\n",
       "      <td>0</td>\n",
       "      <td>Trash. Yes, it has some nice nifty features bu...</td>\n",
       "      <td>91</td>\n",
       "      <td>497</td>\n",
       "      <td>4.472527</td>\n",
       "      <td>42</td>\n",
       "      <td>0.461538</td>\n",
       "      <td>trash yes nice nifty feature lack complete nec...</td>\n",
       "      <td>0.280000</td>\n",
       "      <td>0.595000</td>\n",
       "      <td>3</td>\n",
       "    </tr>\n",
       "    <tr>\n",
       "      <th>1</th>\n",
       "      <td>1</td>\n",
       "      <td>OMG the UI is awful, seriously you have popup ...</td>\n",
       "      <td>58</td>\n",
       "      <td>312</td>\n",
       "      <td>4.396552</td>\n",
       "      <td>27</td>\n",
       "      <td>0.465517</td>\n",
       "      <td>omg ui awful seriously popup premium every 2 s...</td>\n",
       "      <td>-0.166667</td>\n",
       "      <td>0.719444</td>\n",
       "      <td>1</td>\n",
       "    </tr>\n",
       "    <tr>\n",
       "      <th>2</th>\n",
       "      <td>2</td>\n",
       "      <td>I've been using the app for a while and since ...</td>\n",
       "      <td>37</td>\n",
       "      <td>197</td>\n",
       "      <td>4.351351</td>\n",
       "      <td>19</td>\n",
       "      <td>0.513514</td>\n",
       "      <td>ive using since last week acting weird dont re...</td>\n",
       "      <td>-0.082857</td>\n",
       "      <td>0.320476</td>\n",
       "      <td>1</td>\n",
       "    </tr>\n",
       "    <tr>\n",
       "      <th>3</th>\n",
       "      <td>3</td>\n",
       "      <td>Unable to register with an email. Clicking\"con...</td>\n",
       "      <td>61</td>\n",
       "      <td>347</td>\n",
       "      <td>4.704918</td>\n",
       "      <td>28</td>\n",
       "      <td>0.459016</td>\n",
       "      <td>unable register email clickingcontinue email t...</td>\n",
       "      <td>0.025000</td>\n",
       "      <td>0.370370</td>\n",
       "      <td>3</td>\n",
       "    </tr>\n",
       "    <tr>\n",
       "      <th>4</th>\n",
       "      <td>4</td>\n",
       "      <td>Having to pay to set a recurring task is ridic...</td>\n",
       "      <td>31</td>\n",
       "      <td>162</td>\n",
       "      <td>4.258065</td>\n",
       "      <td>16</td>\n",
       "      <td>0.516129</td>\n",
       "      <td>pay set recurring task ridiculous essentially ...</td>\n",
       "      <td>-0.108333</td>\n",
       "      <td>0.575000</td>\n",
       "      <td>1</td>\n",
       "    </tr>\n",
       "  </tbody>\n",
       "</table>\n",
       "</div>"
      ],
      "text/plain": [
       "   Unnamed: 0                                             Review  word_count  \\\n",
       "0           0  Trash. Yes, it has some nice nifty features bu...          91   \n",
       "1           1  OMG the UI is awful, seriously you have popup ...          58   \n",
       "2           2  I've been using the app for a while and since ...          37   \n",
       "3           3  Unable to register with an email. Clicking\"con...          61   \n",
       "4           4  Having to pay to set a recurring task is ridic...          31   \n",
       "\n",
       "   char_count  average_word_length  stop_word_count  stop_word_rate  \\\n",
       "0         497             4.472527               42        0.461538   \n",
       "1         312             4.396552               27        0.465517   \n",
       "2         197             4.351351               19        0.513514   \n",
       "3         347             4.704918               28        0.459016   \n",
       "4         162             4.258065               16        0.516129   \n",
       "\n",
       "                                          lemmatized  polarity  subjectivity  \\\n",
       "0  trash yes nice nifty feature lack complete nec...  0.280000      0.595000   \n",
       "1  omg ui awful seriously popup premium every 2 s... -0.166667      0.719444   \n",
       "2  ive using since last week acting weird dont re... -0.082857      0.320476   \n",
       "3  unable register email clickingcontinue email t...  0.025000      0.370370   \n",
       "4  pay set recurring task ridiculous essentially ... -0.108333      0.575000   \n",
       "\n",
       "   Rating  \n",
       "0       3  \n",
       "1       1  \n",
       "2       1  \n",
       "3       3  \n",
       "4       1  "
      ]
     },
     "execution_count": 6,
     "metadata": {},
     "output_type": "execute_result"
    }
   ],
   "source": [
    "df.head()"
   ]
  },
  {
   "cell_type": "code",
   "execution_count": 7,
   "metadata": {},
   "outputs": [
    {
     "data": {
      "text/plain": [
       "3    7858\n",
       "4    2851\n",
       "5    2808\n",
       "1    2559\n",
       "Name: Rating, dtype: int64"
      ]
     },
     "execution_count": 7,
     "metadata": {},
     "output_type": "execute_result"
    }
   ],
   "source": [
    "df['Rating'].value_counts()"
   ]
  },
  {
   "cell_type": "code",
   "execution_count": 8,
   "metadata": {},
   "outputs": [
    {
     "data": {
      "text/html": [
       "<div>\n",
       "<style scoped>\n",
       "    .dataframe tbody tr th:only-of-type {\n",
       "        vertical-align: middle;\n",
       "    }\n",
       "\n",
       "    .dataframe tbody tr th {\n",
       "        vertical-align: top;\n",
       "    }\n",
       "\n",
       "    .dataframe thead th {\n",
       "        text-align: right;\n",
       "    }\n",
       "</style>\n",
       "<table border=\"1\" class=\"dataframe\">\n",
       "  <thead>\n",
       "    <tr style=\"text-align: right;\">\n",
       "      <th></th>\n",
       "      <th>Unnamed: 0</th>\n",
       "      <th>Review</th>\n",
       "      <th>word_count</th>\n",
       "      <th>char_count</th>\n",
       "      <th>average_word_length</th>\n",
       "      <th>stop_word_count</th>\n",
       "      <th>stop_word_rate</th>\n",
       "      <th>lemmatized</th>\n",
       "      <th>polarity</th>\n",
       "      <th>subjectivity</th>\n",
       "      <th>Rating</th>\n",
       "    </tr>\n",
       "  </thead>\n",
       "  <tbody>\n",
       "    <tr>\n",
       "      <th>30</th>\n",
       "      <td>30</td>\n",
       "      <td>Not happy, app just asked me to 'sign in' and ...</td>\n",
       "      <td>52</td>\n",
       "      <td>264</td>\n",
       "      <td>4.096154</td>\n",
       "      <td>30</td>\n",
       "      <td>0.576923</td>\n",
       "      <td>happy asked sign deleted previous reminder rem...</td>\n",
       "      <td>0.316667</td>\n",
       "      <td>0.583333</td>\n",
       "      <td>4</td>\n",
       "    </tr>\n",
       "    <tr>\n",
       "      <th>45</th>\n",
       "      <td>45</td>\n",
       "      <td>BEWARE the trial period is a scam I've been us...</td>\n",
       "      <td>93</td>\n",
       "      <td>465</td>\n",
       "      <td>4.010753</td>\n",
       "      <td>46</td>\n",
       "      <td>0.494624</td>\n",
       "      <td>beware trial period scam ive using free versio...</td>\n",
       "      <td>0.366667</td>\n",
       "      <td>0.550000</td>\n",
       "      <td>4</td>\n",
       "    </tr>\n",
       "    <tr>\n",
       "      <th>52</th>\n",
       "      <td>52</td>\n",
       "      <td>My CC was charged while I have unsubscribed th...</td>\n",
       "      <td>34</td>\n",
       "      <td>191</td>\n",
       "      <td>4.647059</td>\n",
       "      <td>16</td>\n",
       "      <td>0.470588</td>\n",
       "      <td>cc charged unsubscribed free trial mode cancel...</td>\n",
       "      <td>0.400000</td>\n",
       "      <td>0.800000</td>\n",
       "      <td>4</td>\n",
       "    </tr>\n",
       "    <tr>\n",
       "      <th>59</th>\n",
       "      <td>59</td>\n",
       "      <td>Used it for a fair amount of time without any ...</td>\n",
       "      <td>36</td>\n",
       "      <td>185</td>\n",
       "      <td>4.166667</td>\n",
       "      <td>16</td>\n",
       "      <td>0.444444</td>\n",
       "      <td>used fair amount without problem suddenly aske...</td>\n",
       "      <td>0.350000</td>\n",
       "      <td>0.700000</td>\n",
       "      <td>4</td>\n",
       "    </tr>\n",
       "    <tr>\n",
       "      <th>70</th>\n",
       "      <td>70</td>\n",
       "      <td>I can't sign in. It was working fine before bu...</td>\n",
       "      <td>16</td>\n",
       "      <td>73</td>\n",
       "      <td>3.625000</td>\n",
       "      <td>7</td>\n",
       "      <td>0.437500</td>\n",
       "      <td>cant sign working fine cant even sign</td>\n",
       "      <td>0.416667</td>\n",
       "      <td>0.500000</td>\n",
       "      <td>4</td>\n",
       "    </tr>\n",
       "    <tr>\n",
       "      <th>...</th>\n",
       "      <td>...</td>\n",
       "      <td>...</td>\n",
       "      <td>...</td>\n",
       "      <td>...</td>\n",
       "      <td>...</td>\n",
       "      <td>...</td>\n",
       "      <td>...</td>\n",
       "      <td>...</td>\n",
       "      <td>...</td>\n",
       "      <td>...</td>\n",
       "      <td>...</td>\n",
       "    </tr>\n",
       "    <tr>\n",
       "      <th>16067</th>\n",
       "      <td>16067</td>\n",
       "      <td>Have used for several years. It's one of the b...</td>\n",
       "      <td>19</td>\n",
       "      <td>107</td>\n",
       "      <td>4.684211</td>\n",
       "      <td>8</td>\n",
       "      <td>0.421053</td>\n",
       "      <td>used several year one best digital planner fan...</td>\n",
       "      <td>0.333333</td>\n",
       "      <td>0.100000</td>\n",
       "      <td>4</td>\n",
       "    </tr>\n",
       "    <tr>\n",
       "      <th>16068</th>\n",
       "      <td>16068</td>\n",
       "      <td>Love it!! Love that it keeps what I did that d...</td>\n",
       "      <td>30</td>\n",
       "      <td>142</td>\n",
       "      <td>3.766667</td>\n",
       "      <td>17</td>\n",
       "      <td>0.566667</td>\n",
       "      <td>love love keep day forever cross piece paper n...</td>\n",
       "      <td>0.333333</td>\n",
       "      <td>0.400000</td>\n",
       "      <td>4</td>\n",
       "    </tr>\n",
       "    <tr>\n",
       "      <th>16070</th>\n",
       "      <td>16070</td>\n",
       "      <td>Very helpful and users friendly app.</td>\n",
       "      <td>6</td>\n",
       "      <td>36</td>\n",
       "      <td>5.166667</td>\n",
       "      <td>2</td>\n",
       "      <td>0.333333</td>\n",
       "      <td>helpful user friendly</td>\n",
       "      <td>0.375000</td>\n",
       "      <td>0.500000</td>\n",
       "      <td>4</td>\n",
       "    </tr>\n",
       "    <tr>\n",
       "      <th>16071</th>\n",
       "      <td>16071</td>\n",
       "      <td>I have used this App for years now and really ...</td>\n",
       "      <td>47</td>\n",
       "      <td>220</td>\n",
       "      <td>3.702128</td>\n",
       "      <td>30</td>\n",
       "      <td>0.638298</td>\n",
       "      <td>used year really find helpful synched email al...</td>\n",
       "      <td>0.316667</td>\n",
       "      <td>0.516667</td>\n",
       "      <td>4</td>\n",
       "    </tr>\n",
       "    <tr>\n",
       "      <th>16074</th>\n",
       "      <td>16074</td>\n",
       "      <td>Super easy to use and it has been a life saver...</td>\n",
       "      <td>24</td>\n",
       "      <td>117</td>\n",
       "      <td>3.916667</td>\n",
       "      <td>12</td>\n",
       "      <td>0.500000</td>\n",
       "      <td>super easy life saver recently love layout wis...</td>\n",
       "      <td>0.422222</td>\n",
       "      <td>0.700000</td>\n",
       "      <td>4</td>\n",
       "    </tr>\n",
       "  </tbody>\n",
       "</table>\n",
       "<p>2851 rows × 11 columns</p>\n",
       "</div>"
      ],
      "text/plain": [
       "       Unnamed: 0                                             Review  \\\n",
       "30             30  Not happy, app just asked me to 'sign in' and ...   \n",
       "45             45  BEWARE the trial period is a scam I've been us...   \n",
       "52             52  My CC was charged while I have unsubscribed th...   \n",
       "59             59  Used it for a fair amount of time without any ...   \n",
       "70             70  I can't sign in. It was working fine before bu...   \n",
       "...           ...                                                ...   \n",
       "16067       16067  Have used for several years. It's one of the b...   \n",
       "16068       16068  Love it!! Love that it keeps what I did that d...   \n",
       "16070       16070               Very helpful and users friendly app.   \n",
       "16071       16071  I have used this App for years now and really ...   \n",
       "16074       16074  Super easy to use and it has been a life saver...   \n",
       "\n",
       "       word_count  char_count  average_word_length  stop_word_count  \\\n",
       "30             52         264             4.096154               30   \n",
       "45             93         465             4.010753               46   \n",
       "52             34         191             4.647059               16   \n",
       "59             36         185             4.166667               16   \n",
       "70             16          73             3.625000                7   \n",
       "...           ...         ...                  ...              ...   \n",
       "16067          19         107             4.684211                8   \n",
       "16068          30         142             3.766667               17   \n",
       "16070           6          36             5.166667                2   \n",
       "16071          47         220             3.702128               30   \n",
       "16074          24         117             3.916667               12   \n",
       "\n",
       "       stop_word_rate                                         lemmatized  \\\n",
       "30           0.576923  happy asked sign deleted previous reminder rem...   \n",
       "45           0.494624  beware trial period scam ive using free versio...   \n",
       "52           0.470588  cc charged unsubscribed free trial mode cancel...   \n",
       "59           0.444444  used fair amount without problem suddenly aske...   \n",
       "70           0.437500              cant sign working fine cant even sign   \n",
       "...               ...                                                ...   \n",
       "16067        0.421053  used several year one best digital planner fan...   \n",
       "16068        0.566667  love love keep day forever cross piece paper n...   \n",
       "16070        0.333333                              helpful user friendly   \n",
       "16071        0.638298  used year really find helpful synched email al...   \n",
       "16074        0.500000  super easy life saver recently love layout wis...   \n",
       "\n",
       "       polarity  subjectivity  Rating  \n",
       "30     0.316667      0.583333       4  \n",
       "45     0.366667      0.550000       4  \n",
       "52     0.400000      0.800000       4  \n",
       "59     0.350000      0.700000       4  \n",
       "70     0.416667      0.500000       4  \n",
       "...         ...           ...     ...  \n",
       "16067  0.333333      0.100000       4  \n",
       "16068  0.333333      0.400000       4  \n",
       "16070  0.375000      0.500000       4  \n",
       "16071  0.316667      0.516667       4  \n",
       "16074  0.422222      0.700000       4  \n",
       "\n",
       "[2851 rows x 11 columns]"
      ]
     },
     "execution_count": 8,
     "metadata": {},
     "output_type": "execute_result"
    }
   ],
   "source": [
    "df[df['Rating']==4]"
   ]
  },
  {
   "cell_type": "code",
   "execution_count": 9,
   "metadata": {},
   "outputs": [],
   "source": [
    "df.drop(df.columns[df.columns.str.contains('unnamed',case = False)],axis = 1, inplace = True)"
   ]
  },
  {
   "cell_type": "code",
   "execution_count": 10,
   "metadata": {},
   "outputs": [
    {
     "data": {
      "text/html": [
       "<div>\n",
       "<style scoped>\n",
       "    .dataframe tbody tr th:only-of-type {\n",
       "        vertical-align: middle;\n",
       "    }\n",
       "\n",
       "    .dataframe tbody tr th {\n",
       "        vertical-align: top;\n",
       "    }\n",
       "\n",
       "    .dataframe thead th {\n",
       "        text-align: right;\n",
       "    }\n",
       "</style>\n",
       "<table border=\"1\" class=\"dataframe\">\n",
       "  <thead>\n",
       "    <tr style=\"text-align: right;\">\n",
       "      <th></th>\n",
       "      <th>Review</th>\n",
       "      <th>word_count</th>\n",
       "      <th>char_count</th>\n",
       "      <th>average_word_length</th>\n",
       "      <th>stop_word_count</th>\n",
       "      <th>stop_word_rate</th>\n",
       "      <th>lemmatized</th>\n",
       "      <th>polarity</th>\n",
       "      <th>subjectivity</th>\n",
       "      <th>Rating</th>\n",
       "    </tr>\n",
       "  </thead>\n",
       "  <tbody>\n",
       "    <tr>\n",
       "      <th>0</th>\n",
       "      <td>Trash. Yes, it has some nice nifty features bu...</td>\n",
       "      <td>91</td>\n",
       "      <td>497</td>\n",
       "      <td>4.472527</td>\n",
       "      <td>42</td>\n",
       "      <td>0.461538</td>\n",
       "      <td>trash yes nice nifty feature lack complete nec...</td>\n",
       "      <td>0.280000</td>\n",
       "      <td>0.595000</td>\n",
       "      <td>3</td>\n",
       "    </tr>\n",
       "    <tr>\n",
       "      <th>1</th>\n",
       "      <td>OMG the UI is awful, seriously you have popup ...</td>\n",
       "      <td>58</td>\n",
       "      <td>312</td>\n",
       "      <td>4.396552</td>\n",
       "      <td>27</td>\n",
       "      <td>0.465517</td>\n",
       "      <td>omg ui awful seriously popup premium every 2 s...</td>\n",
       "      <td>-0.166667</td>\n",
       "      <td>0.719444</td>\n",
       "      <td>1</td>\n",
       "    </tr>\n",
       "    <tr>\n",
       "      <th>2</th>\n",
       "      <td>I've been using the app for a while and since ...</td>\n",
       "      <td>37</td>\n",
       "      <td>197</td>\n",
       "      <td>4.351351</td>\n",
       "      <td>19</td>\n",
       "      <td>0.513514</td>\n",
       "      <td>ive using since last week acting weird dont re...</td>\n",
       "      <td>-0.082857</td>\n",
       "      <td>0.320476</td>\n",
       "      <td>1</td>\n",
       "    </tr>\n",
       "    <tr>\n",
       "      <th>3</th>\n",
       "      <td>Unable to register with an email. Clicking\"con...</td>\n",
       "      <td>61</td>\n",
       "      <td>347</td>\n",
       "      <td>4.704918</td>\n",
       "      <td>28</td>\n",
       "      <td>0.459016</td>\n",
       "      <td>unable register email clickingcontinue email t...</td>\n",
       "      <td>0.025000</td>\n",
       "      <td>0.370370</td>\n",
       "      <td>3</td>\n",
       "    </tr>\n",
       "    <tr>\n",
       "      <th>4</th>\n",
       "      <td>Having to pay to set a recurring task is ridic...</td>\n",
       "      <td>31</td>\n",
       "      <td>162</td>\n",
       "      <td>4.258065</td>\n",
       "      <td>16</td>\n",
       "      <td>0.516129</td>\n",
       "      <td>pay set recurring task ridiculous essentially ...</td>\n",
       "      <td>-0.108333</td>\n",
       "      <td>0.575000</td>\n",
       "      <td>1</td>\n",
       "    </tr>\n",
       "  </tbody>\n",
       "</table>\n",
       "</div>"
      ],
      "text/plain": [
       "                                              Review  word_count  char_count  \\\n",
       "0  Trash. Yes, it has some nice nifty features bu...          91         497   \n",
       "1  OMG the UI is awful, seriously you have popup ...          58         312   \n",
       "2  I've been using the app for a while and since ...          37         197   \n",
       "3  Unable to register with an email. Clicking\"con...          61         347   \n",
       "4  Having to pay to set a recurring task is ridic...          31         162   \n",
       "\n",
       "   average_word_length  stop_word_count  stop_word_rate  \\\n",
       "0             4.472527               42        0.461538   \n",
       "1             4.396552               27        0.465517   \n",
       "2             4.351351               19        0.513514   \n",
       "3             4.704918               28        0.459016   \n",
       "4             4.258065               16        0.516129   \n",
       "\n",
       "                                          lemmatized  polarity  subjectivity  \\\n",
       "0  trash yes nice nifty feature lack complete nec...  0.280000      0.595000   \n",
       "1  omg ui awful seriously popup premium every 2 s... -0.166667      0.719444   \n",
       "2  ive using since last week acting weird dont re... -0.082857      0.320476   \n",
       "3  unable register email clickingcontinue email t...  0.025000      0.370370   \n",
       "4  pay set recurring task ridiculous essentially ... -0.108333      0.575000   \n",
       "\n",
       "   Rating  \n",
       "0       3  \n",
       "1       1  \n",
       "2       1  \n",
       "3       3  \n",
       "4       1  "
      ]
     },
     "execution_count": 10,
     "metadata": {},
     "output_type": "execute_result"
    }
   ],
   "source": [
    "df.head()"
   ]
  },
  {
   "cell_type": "code",
   "execution_count": 11,
   "metadata": {},
   "outputs": [
    {
     "data": {
      "text/html": [
       "<div>\n",
       "<style scoped>\n",
       "    .dataframe tbody tr th:only-of-type {\n",
       "        vertical-align: middle;\n",
       "    }\n",
       "\n",
       "    .dataframe tbody tr th {\n",
       "        vertical-align: top;\n",
       "    }\n",
       "\n",
       "    .dataframe thead th {\n",
       "        text-align: right;\n",
       "    }\n",
       "</style>\n",
       "<table border=\"1\" class=\"dataframe\">\n",
       "  <thead>\n",
       "    <tr style=\"text-align: right;\">\n",
       "      <th></th>\n",
       "      <th>word_count</th>\n",
       "      <th>char_count</th>\n",
       "      <th>average_word_length</th>\n",
       "      <th>stop_word_count</th>\n",
       "      <th>stop_word_rate</th>\n",
       "      <th>polarity</th>\n",
       "      <th>subjectivity</th>\n",
       "    </tr>\n",
       "    <tr>\n",
       "      <th>Rating</th>\n",
       "      <th></th>\n",
       "      <th></th>\n",
       "      <th></th>\n",
       "      <th></th>\n",
       "      <th></th>\n",
       "      <th></th>\n",
       "      <th></th>\n",
       "    </tr>\n",
       "  </thead>\n",
       "  <tbody>\n",
       "    <tr>\n",
       "      <th>1</th>\n",
       "      <td>38.236030</td>\n",
       "      <td>205.810082</td>\n",
       "      <td>4.536734</td>\n",
       "      <td>17.706917</td>\n",
       "      <td>0.433159</td>\n",
       "      <td>-0.232177</td>\n",
       "      <td>0.539630</td>\n",
       "    </tr>\n",
       "    <tr>\n",
       "      <th>3</th>\n",
       "      <td>38.629422</td>\n",
       "      <td>206.105243</td>\n",
       "      <td>4.487693</td>\n",
       "      <td>17.896539</td>\n",
       "      <td>0.431087</td>\n",
       "      <td>0.111687</td>\n",
       "      <td>0.337596</td>\n",
       "    </tr>\n",
       "    <tr>\n",
       "      <th>4</th>\n",
       "      <td>37.628551</td>\n",
       "      <td>200.158541</td>\n",
       "      <td>4.396094</td>\n",
       "      <td>17.407576</td>\n",
       "      <td>0.437069</td>\n",
       "      <td>0.386068</td>\n",
       "      <td>0.572526</td>\n",
       "    </tr>\n",
       "    <tr>\n",
       "      <th>5</th>\n",
       "      <td>18.956197</td>\n",
       "      <td>99.480413</td>\n",
       "      <td>4.374969</td>\n",
       "      <td>8.637108</td>\n",
       "      <td>0.370043</td>\n",
       "      <td>0.657641</td>\n",
       "      <td>0.681848</td>\n",
       "    </tr>\n",
       "  </tbody>\n",
       "</table>\n",
       "</div>"
      ],
      "text/plain": [
       "        word_count  char_count  average_word_length  stop_word_count  \\\n",
       "Rating                                                                 \n",
       "1        38.236030  205.810082             4.536734        17.706917   \n",
       "3        38.629422  206.105243             4.487693        17.896539   \n",
       "4        37.628551  200.158541             4.396094        17.407576   \n",
       "5        18.956197   99.480413             4.374969         8.637108   \n",
       "\n",
       "        stop_word_rate  polarity  subjectivity  \n",
       "Rating                                          \n",
       "1             0.433159 -0.232177      0.539630  \n",
       "3             0.431087  0.111687      0.337596  \n",
       "4             0.437069  0.386068      0.572526  \n",
       "5             0.370043  0.657641      0.681848  "
      ]
     },
     "execution_count": 11,
     "metadata": {},
     "output_type": "execute_result"
    }
   ],
   "source": [
    "stars = df.groupby('Rating').mean()\n",
    "stars"
   ]
  },
  {
   "cell_type": "code",
   "execution_count": 12,
   "metadata": {},
   "outputs": [],
   "source": [
    "star_class = df[(df.Rating==1) | (df.Rating==5)]"
   ]
  },
  {
   "cell_type": "code",
   "execution_count": 13,
   "metadata": {},
   "outputs": [
    {
     "data": {
      "text/plain": [
       "5    2808\n",
       "1    2559\n",
       "Name: Rating, dtype: int64"
      ]
     },
     "execution_count": 13,
     "metadata": {},
     "output_type": "execute_result"
    }
   ],
   "source": [
    "star_class['Rating'].value_counts()"
   ]
  },
  {
   "cell_type": "code",
   "execution_count": 14,
   "metadata": {},
   "outputs": [],
   "source": [
    "X = star_class['lemmatized']\n",
    "y = star_class['Rating']"
   ]
  },
  {
   "cell_type": "code",
   "execution_count": 15,
   "metadata": {},
   "outputs": [],
   "source": [
    "from sklearn.model_selection import train_test_split"
   ]
  },
  {
   "cell_type": "code",
   "execution_count": 16,
   "metadata": {},
   "outputs": [],
   "source": [
    "X_train, X_test, y_train, y_test = train_test_split(X, y, test_size=0.4, random_state=42)"
   ]
  },
  {
   "cell_type": "code",
   "execution_count": 17,
   "metadata": {},
   "outputs": [],
   "source": [
    "from sklearn.feature_extraction.text import CountVectorizer"
   ]
  },
  {
   "cell_type": "code",
   "execution_count": 18,
   "metadata": {},
   "outputs": [],
   "source": [
    "cv = CountVectorizer()"
   ]
  },
  {
   "cell_type": "code",
   "execution_count": 19,
   "metadata": {},
   "outputs": [],
   "source": [
    "from sklearn.feature_extraction.text import TfidfTransformer"
   ]
  },
  {
   "cell_type": "code",
   "execution_count": 20,
   "metadata": {},
   "outputs": [],
   "source": [
    "tfidf = TfidfTransformer()"
   ]
  },
  {
   "cell_type": "code",
   "execution_count": 21,
   "metadata": {},
   "outputs": [],
   "source": [
    "from sklearn.naive_bayes import MultinomialNB"
   ]
  },
  {
   "cell_type": "code",
   "execution_count": 22,
   "metadata": {},
   "outputs": [],
   "source": [
    "mnb = MultinomialNB()"
   ]
  },
  {
   "cell_type": "code",
   "execution_count": 23,
   "metadata": {},
   "outputs": [],
   "source": [
    "from sklearn.metrics import confusion_matrix,classification_report"
   ]
  },
  {
   "cell_type": "code",
   "execution_count": 24,
   "metadata": {},
   "outputs": [],
   "source": [
    "from sklearn.pipeline import Pipeline"
   ]
  },
  {
   "cell_type": "code",
   "execution_count": 25,
   "metadata": {},
   "outputs": [],
   "source": [
    "pipeline = Pipeline([\n",
    "    ('bow', CountVectorizer()),  # strings to token integer counts\n",
    "    ('tfidf', TfidfTransformer()),  # integer counts to weighted TF-IDF scores\n",
    "    ('classifier', MultinomialNB()),  # train on TF-IDF vectors w/ Multinomial Naive Bayes\n",
    "])"
   ]
  },
  {
   "cell_type": "code",
   "execution_count": 26,
   "metadata": {},
   "outputs": [
    {
     "data": {
      "text/plain": [
       "Pipeline(memory=None,\n",
       "         steps=[('bow',\n",
       "                 CountVectorizer(analyzer='word', binary=False,\n",
       "                                 decode_error='strict',\n",
       "                                 dtype=<class 'numpy.int64'>, encoding='utf-8',\n",
       "                                 input='content', lowercase=True, max_df=1.0,\n",
       "                                 max_features=None, min_df=1,\n",
       "                                 ngram_range=(1, 1), preprocessor=None,\n",
       "                                 stop_words=None, strip_accents=None,\n",
       "                                 token_pattern='(?u)\\\\b\\\\w\\\\w+\\\\b',\n",
       "                                 tokenizer=None, vocabulary=None)),\n",
       "                ('tfidf',\n",
       "                 TfidfTransformer(norm='l2', smooth_idf=True,\n",
       "                                  sublinear_tf=False, use_idf=True)),\n",
       "                ('classifier',\n",
       "                 MultinomialNB(alpha=1.0, class_prior=None, fit_prior=True))],\n",
       "         verbose=False)"
      ]
     },
     "execution_count": 26,
     "metadata": {},
     "output_type": "execute_result"
    }
   ],
   "source": [
    "pipeline.fit(X_train,y_train)"
   ]
  },
  {
   "cell_type": "code",
   "execution_count": 27,
   "metadata": {},
   "outputs": [],
   "source": [
    "MNB_predictions = pipeline.predict(X_test)"
   ]
  },
  {
   "cell_type": "code",
   "execution_count": 28,
   "metadata": {},
   "outputs": [
    {
     "name": "stdout",
     "output_type": "stream",
     "text": [
      "[[1002   26]\n",
      " [  79 1040]]\n",
      "              precision    recall  f1-score   support\n",
      "\n",
      "           1       0.93      0.97      0.95      1028\n",
      "           5       0.98      0.93      0.95      1119\n",
      "\n",
      "    accuracy                           0.95      2147\n",
      "   macro avg       0.95      0.95      0.95      2147\n",
      "weighted avg       0.95      0.95      0.95      2147\n",
      "\n"
     ]
    }
   ],
   "source": [
    "print(confusion_matrix(y_test,MNB_predictions))\n",
    "print(classification_report(y_test,MNB_predictions))"
   ]
  },
  {
   "cell_type": "code",
   "execution_count": 29,
   "metadata": {},
   "outputs": [],
   "source": [
    "from sklearn.svm import SVC "
   ]
  },
  {
   "cell_type": "code",
   "execution_count": 30,
   "metadata": {},
   "outputs": [],
   "source": [
    "svc = SVC()"
   ]
  },
  {
   "cell_type": "code",
   "execution_count": 31,
   "metadata": {},
   "outputs": [],
   "source": [
    "pipeline = Pipeline([\n",
    "    ('bow', CountVectorizer()),  # strings to token integer counts\n",
    "    ('tfidf', TfidfTransformer()),  # integer counts to weighted TF-IDF scores\n",
    "    ('classifier', SVC()),  # train on TF-IDF vectors w/ Multinomial Naive Bayes\n",
    "])"
   ]
  },
  {
   "cell_type": "code",
   "execution_count": 32,
   "metadata": {},
   "outputs": [
    {
     "data": {
      "text/plain": [
       "Pipeline(memory=None,\n",
       "         steps=[('bow',\n",
       "                 CountVectorizer(analyzer='word', binary=False,\n",
       "                                 decode_error='strict',\n",
       "                                 dtype=<class 'numpy.int64'>, encoding='utf-8',\n",
       "                                 input='content', lowercase=True, max_df=1.0,\n",
       "                                 max_features=None, min_df=1,\n",
       "                                 ngram_range=(1, 1), preprocessor=None,\n",
       "                                 stop_words=None, strip_accents=None,\n",
       "                                 token_pattern='(?u)\\\\b\\\\w\\\\w+\\\\b',\n",
       "                                 tokenizer=None, vocabulary=None)),\n",
       "                ('tfidf',\n",
       "                 TfidfTransformer(norm='l2', smooth_idf=True,\n",
       "                                  sublinear_tf=False, use_idf=True)),\n",
       "                ('classifier',\n",
       "                 SVC(C=1.0, break_ties=False, cache_size=200, class_weight=None,\n",
       "                     coef0=0.0, decision_function_shape='ovr', degree=3,\n",
       "                     gamma='scale', kernel='rbf', max_iter=-1,\n",
       "                     probability=False, random_state=None, shrinking=True,\n",
       "                     tol=0.001, verbose=False))],\n",
       "         verbose=False)"
      ]
     },
     "execution_count": 32,
     "metadata": {},
     "output_type": "execute_result"
    }
   ],
   "source": [
    "pipeline.fit(X_train,y_train)"
   ]
  },
  {
   "cell_type": "code",
   "execution_count": 33,
   "metadata": {},
   "outputs": [],
   "source": [
    "SVC_predictions = pipeline.predict(X_test)"
   ]
  },
  {
   "cell_type": "code",
   "execution_count": 34,
   "metadata": {},
   "outputs": [
    {
     "name": "stdout",
     "output_type": "stream",
     "text": [
      "[[1020    8]\n",
      " [  46 1073]]\n",
      "              precision    recall  f1-score   support\n",
      "\n",
      "           1       0.96      0.99      0.97      1028\n",
      "           5       0.99      0.96      0.98      1119\n",
      "\n",
      "    accuracy                           0.97      2147\n",
      "   macro avg       0.97      0.98      0.97      2147\n",
      "weighted avg       0.98      0.97      0.97      2147\n",
      "\n"
     ]
    }
   ],
   "source": [
    "print(confusion_matrix(y_test,SVC_predictions))\n",
    "print(classification_report(y_test,SVC_predictions))"
   ]
  },
  {
   "cell_type": "code",
   "execution_count": 35,
   "metadata": {},
   "outputs": [
    {
     "name": "stdout",
     "output_type": "stream",
     "text": [
      "MAE: 0.10060549604098742\n",
      "MSE: 0.4024219841639497\n",
      "RMSE: 0.6343673889505589\n"
     ]
    }
   ],
   "source": [
    "from sklearn import metrics\n",
    "print('MAE:', metrics.mean_absolute_error(y_test, SVC_predictions))\n",
    "print('MSE:', metrics.mean_squared_error(y_test, SVC_predictions))\n",
    "print('RMSE:', np.sqrt(metrics.mean_squared_error(y_test, SVC_predictions)))"
   ]
  },
  {
   "cell_type": "code",
   "execution_count": 36,
   "metadata": {},
   "outputs": [],
   "source": [
    "from sklearn.linear_model import LogisticRegression"
   ]
  },
  {
   "cell_type": "code",
   "execution_count": 37,
   "metadata": {},
   "outputs": [],
   "source": [
    "lr = LogisticRegression()"
   ]
  },
  {
   "cell_type": "code",
   "execution_count": 38,
   "metadata": {},
   "outputs": [],
   "source": [
    "X = star_class['lemmatized']\n",
    "y = star_class['Rating']"
   ]
  },
  {
   "cell_type": "code",
   "execution_count": 39,
   "metadata": {},
   "outputs": [],
   "source": [
    "X_train, X_test, y_train, y_test = train_test_split(X, y, test_size=0.4, random_state=42)"
   ]
  },
  {
   "cell_type": "code",
   "execution_count": 40,
   "metadata": {},
   "outputs": [],
   "source": [
    "pipeline = Pipeline([\n",
    "    ('bow', CountVectorizer()),  # strings to token integer counts\n",
    "    ('tfidf', TfidfTransformer()),  # integer counts to weighted TF-IDF scores\n",
    "    ('classifier', LogisticRegression()),  # train on TF-IDF vectors w/ Multinomial Naive Bayes\n",
    "])"
   ]
  },
  {
   "cell_type": "code",
   "execution_count": 41,
   "metadata": {
    "scrolled": false
   },
   "outputs": [
    {
     "data": {
      "text/plain": [
       "Pipeline(memory=None,\n",
       "         steps=[('bow',\n",
       "                 CountVectorizer(analyzer='word', binary=False,\n",
       "                                 decode_error='strict',\n",
       "                                 dtype=<class 'numpy.int64'>, encoding='utf-8',\n",
       "                                 input='content', lowercase=True, max_df=1.0,\n",
       "                                 max_features=None, min_df=1,\n",
       "                                 ngram_range=(1, 1), preprocessor=None,\n",
       "                                 stop_words=None, strip_accents=None,\n",
       "                                 token_pattern='(?u)\\\\b\\\\w\\\\w+\\\\b',\n",
       "                                 tokenizer=None, vocabulary=None)),\n",
       "                ('tfidf',\n",
       "                 TfidfTransformer(norm='l2', smooth_idf=True,\n",
       "                                  sublinear_tf=False, use_idf=True)),\n",
       "                ('classifier',\n",
       "                 LogisticRegression(C=1.0, class_weight=None, dual=False,\n",
       "                                    fit_intercept=True, intercept_scaling=1,\n",
       "                                    l1_ratio=None, max_iter=100,\n",
       "                                    multi_class='auto', n_jobs=None,\n",
       "                                    penalty='l2', random_state=None,\n",
       "                                    solver='lbfgs', tol=0.0001, verbose=0,\n",
       "                                    warm_start=False))],\n",
       "         verbose=False)"
      ]
     },
     "execution_count": 41,
     "metadata": {},
     "output_type": "execute_result"
    }
   ],
   "source": [
    "pipeline.fit(X_train,y_train)"
   ]
  },
  {
   "cell_type": "code",
   "execution_count": 42,
   "metadata": {},
   "outputs": [],
   "source": [
    "LR_predictions = pipeline.predict(X_test)"
   ]
  },
  {
   "cell_type": "code",
   "execution_count": 43,
   "metadata": {},
   "outputs": [
    {
     "name": "stdout",
     "output_type": "stream",
     "text": [
      "[[1013   15]\n",
      " [  67 1052]]\n",
      "              precision    recall  f1-score   support\n",
      "\n",
      "           1       0.94      0.99      0.96      1028\n",
      "           5       0.99      0.94      0.96      1119\n",
      "\n",
      "    accuracy                           0.96      2147\n",
      "   macro avg       0.96      0.96      0.96      2147\n",
      "weighted avg       0.96      0.96      0.96      2147\n",
      "\n"
     ]
    }
   ],
   "source": [
    "print(confusion_matrix(y_test,LR_predictions))\n",
    "print(classification_report(y_test,LR_predictions))"
   ]
  },
  {
   "cell_type": "code",
   "execution_count": 44,
   "metadata": {},
   "outputs": [],
   "source": [
    "import seaborn as sns"
   ]
  },
  {
   "cell_type": "code",
   "execution_count": 45,
   "metadata": {},
   "outputs": [
    {
     "data": {
      "text/plain": [
       "<matplotlib.axes._subplots.AxesSubplot at 0x7f8772755990>"
      ]
     },
     "execution_count": 45,
     "metadata": {},
     "output_type": "execute_result"
    },
    {
     "data": {
      "image/png": "[encoded data removed]",
      "text/plain": [
       "<Figure size 432x288 with 1 Axes>"
      ]
     },
     "metadata": {
      "needs_background": "light"
     },
     "output_type": "display_data"
    }
   ],
   "source": [
    "sns.countplot(x=df['Rating'],data=df)"
   ]
  },
  {
   "cell_type": "code",
   "execution_count": 46,
   "metadata": {},
   "outputs": [
    {
     "data": {
      "text/plain": [
       "<matplotlib.axes._subplots.AxesSubplot at 0x7f877269c610>"
      ]
     },
     "execution_count": 46,
     "metadata": {},
     "output_type": "execute_result"
    },
    {
     "data": {
      "image/png": "[encoded data removed]",
      "text/plain": [
       "<Figure size 432x288 with 1 Axes>"
      ]
     },
     "metadata": {
      "needs_background": "light"
     },
     "output_type": "display_data"
    }
   ],
   "source": [
    "sns.countplot(x=star_class['Rating'],data=star_class)"
   ]
  },
  {
   "cell_type": "code",
   "execution_count": 47,
   "metadata": {},
   "outputs": [
    {
     "data": {
      "text/plain": [
       "<matplotlib.axes._subplots.AxesSubplot at 0x7f87725cd450>"
      ]
     },
     "execution_count": 47,
     "metadata": {},
     "output_type": "execute_result"
    },
    {
     "data": {
      "image/png": "[encoded data removed]",
      "text/plain": [
       "<Figure size 432x288 with 2 Axes>"
      ]
     },
     "metadata": {
      "needs_background": "light"
     },
     "output_type": "display_data"
    }
   ],
   "source": [
    "import matplotlib as plt\n",
    "%matplotlib inline\n",
    "\n",
    "sns.heatmap(df.corr(),annot=True,cmap='coolwarm')"
   ]
  },
  {
   "cell_type": "code",
   "execution_count": 48,
   "metadata": {},
   "outputs": [
    {
     "data": {
      "text/plain": [
       "<matplotlib.axes._subplots.AxesSubplot at 0x7f87713e4710>"
      ]
     },
     "execution_count": 48,
     "metadata": {},
     "output_type": "execute_result"
    },
    {
     "data": {
      "image/png": "[encoded data removed]",
      "text/plain": [
       "<Figure size 432x288 with 2 Axes>"
      ]
     },
     "metadata": {
      "needs_background": "light"
     },
     "output_type": "display_data"
    }
   ],
   "source": [
    "sns.heatmap(star_class.corr(),annot=True,cmap='coolwarm')"
   ]
  },
  {
   "cell_type": "code",
   "execution_count": 49,
   "metadata": {},
   "outputs": [],
   "source": [
    "from sklearn.metrics import roc_curve\n",
    "\n",
    "# roc curve for models\n",
    "fpr1, tpr1, thresh1 = roc_curve(y_test, LR_predictions, pos_label=1)\n",
    "fpr2, tpr2, thresh2 = roc_curve(y_test, SVC_predictions, pos_label=1)\n",
    "fpr3, tpr3, thresh3 = roc_curve(y_test, MNB_predictions,pos_label=1)\n",
    "\n",
    "# roc curve for tpr = fpr \n",
    "random_probs = [0 for i in range(len(y_test))]\n",
    "p_fpr, p_tpr, _ = roc_curve(y_test, random_probs, pos_label=1)"
   ]
  },
  {
   "cell_type": "code",
   "execution_count": 50,
   "metadata": {},
   "outputs": [
    {
     "name": "stdout",
     "output_type": "stream",
     "text": [
      "0.9627668360090827 0.9755548832858688 0.9520547111616473\n"
     ]
    }
   ],
   "source": [
    "from sklearn.metrics import roc_auc_score\n",
    "\n",
    "# auc scores\n",
    "auc_score1 = roc_auc_score(y_test, LR_predictions)\n",
    "auc_score2 = roc_auc_score(y_test, SVC_predictions)\n",
    "auc_score3 = roc_auc_score(y_test,MNB_predictions)\n",
    "\n",
    "print(auc_score1, auc_score2, auc_score3)"
   ]
  },
  {
   "cell_type": "code",
   "execution_count": 51,
   "metadata": {},
   "outputs": [
    {
     "data": {
      "image/png": "[encoded data removed]",
      "text/plain": [
       "<Figure size 576x396 with 1 Axes>"
      ]
     },
     "metadata": {},
     "output_type": "display_data"
    }
   ],
   "source": [
    "import matplotlib.pyplot as plt\n",
    "plt.style.use('seaborn')\n",
    "plt.plot(tpr1, fpr1, linestyle='--',color='orange', label='Logistic Regression')\n",
    "plt.plot(tpr2, fpr2, linestyle='--',color='green', label='Support Vector Machine')\n",
    "plt.plot(tpr3, fpr3, linestyle='--',color='red', label='Multinomial Nabive Bayes')\n",
    "plt.plot(p_fpr, p_tpr, linestyle='--', color='blue')\n",
    "# title\n",
    "plt.title('ROC curve')\n",
    "# x label\n",
    "plt.xlabel('False Positive Rate')\n",
    "# y label\n",
    "plt.ylabel('True Positive rate')\n",
    "\n",
    "plt.legend(loc='best')\n",
    "plt.savefig('ROC',dpi=300)\n",
    "plt.show();"
   ]
  },
  {
   "cell_type": "code",
   "execution_count": null,
   "metadata": {},
   "outputs": [],
   "source": []
  }
 ],
 "metadata": {
  "kernelspec": {
   "display_name": "Python 3",
   "language": "python",
   "name": "python3"
  },
  "language_info": {
   "codemirror_mode": {
    "name": "ipython",
    "version": 3
   },
   "file_extension": ".py",
   "mimetype": "text/x-python",
   "name": "python",
   "nbconvert_exporter": "python",
   "pygments_lexer": "ipython3",
   "version": "3.7.6"
  }
 },
 "nbformat": 4,
 "nbformat_minor": 4
}
